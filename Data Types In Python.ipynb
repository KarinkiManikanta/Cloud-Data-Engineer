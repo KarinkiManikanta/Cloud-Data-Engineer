{
 "cells": [
  {
   "cell_type": "markdown",
   "id": "7b9edc6f",
   "metadata": {},
   "source": [
    "### 1. Basic Data type 2.Adavanced data type\n",
    "1.Basic data type\n",
    "* int\n",
    "* float\n",
    "* string\n",
    "* complex\n",
    "* Boolean\n",
    "2.Adavanced data type/ Data Structure\n",
    "* string\n",
    "* List\n",
    "* Tuple\n",
    "* Set\n",
    "* Dictionary"
   ]
  },
  {
   "cell_type": "markdown",
   "id": "20bbaa76",
   "metadata": {},
   "source": [
    "### 1. Basic Data types\n",
    "* int : If user gives integer value, then interprter will decide type of variable"
   ]
  },
  {
   "cell_type": "code",
   "execution_count": 21,
   "id": "660ff5db",
   "metadata": {},
   "outputs": [
    {
     "name": "stdout",
     "output_type": "stream",
     "text": [
      "10\n"
     ]
    }
   ],
   "source": [
    "a=10\n",
    "print(a)"
   ]
  },
  {
   "cell_type": "code",
   "execution_count": 22,
   "id": "7ce72a8f",
   "metadata": {},
   "outputs": [
    {
     "name": "stdout",
     "output_type": "stream",
     "text": [
      "<class 'int'>\n"
     ]
    }
   ],
   "source": [
    "print(type(a))"
   ]
  },
  {
   "cell_type": "code",
   "execution_count": 23,
   "id": "45e7a163",
   "metadata": {},
   "outputs": [
    {
     "data": {
      "text/plain": [
       "140722885764912"
      ]
     },
     "execution_count": 23,
     "metadata": {},
     "output_type": "execute_result"
    }
   ],
   "source": [
    "id(1) #### Storage number or memory allocations"
   ]
  },
  {
   "cell_type": "markdown",
   "id": "ab8083f5",
   "metadata": {},
   "source": [
    "#### Python Data Types\n"
   ]
  },
  {
   "cell_type": "markdown",
   "id": "46109d4f",
   "metadata": {},
   "source": [
    "### 1. String\n",
    "* String is the collection of characters it enclosed with quotes.\n"
   ]
  },
  {
   "cell_type": "code",
   "execution_count": 2,
   "id": "e8ba3def",
   "metadata": {},
   "outputs": [
    {
     "name": "stdout",
     "output_type": "stream",
     "text": [
      "This is manikanta from west godavari\n"
     ]
    }
   ],
   "source": [
    "str=\"This is manikanta from west godavari\"\n",
    "print(str)"
   ]
  },
  {
   "cell_type": "markdown",
   "id": "5b9376b6",
   "metadata": {},
   "source": [
    "* Each character in string having their own indexing.\n",
    "* String support both indexing(Forward and backword).\n",
    "* Forward indexing start from 0 and backword indexing start from -1.\n",
    "* String allows the dublicate characters also.\n",
    "* String support both indexing and slice.\n",
    "* Indexing: featching as the specific character.\n",
    "* Slicing: featching 0 or 1 0r more character by using the start and end index."
   ]
  },
  {
   "cell_type": "code",
   "execution_count": 3,
   "id": "01c76639",
   "metadata": {},
   "outputs": [
    {
     "data": {
      "text/plain": [
       "'T'"
      ]
     },
     "execution_count": 3,
     "metadata": {},
     "output_type": "execute_result"
    }
   ],
   "source": [
    "### This is called indexing\n",
    "str[0]"
   ]
  },
  {
   "cell_type": "code",
   "execution_count": 4,
   "id": "337ccc2a",
   "metadata": {},
   "outputs": [
    {
     "data": {
      "text/plain": [
       "'is'"
      ]
     },
     "execution_count": 4,
     "metadata": {},
     "output_type": "execute_result"
    }
   ],
   "source": [
    "### This is calles slice\n",
    "str[2:4]"
   ]
  },
  {
   "cell_type": "code",
   "execution_count": 5,
   "id": "30831bdb",
   "metadata": {},
   "outputs": [
    {
     "data": {
      "text/plain": [
       "'i smnknafo etgdvr'"
      ]
     },
     "execution_count": 5,
     "metadata": {},
     "output_type": "execute_result"
    }
   ],
   "source": [
    "#### Doubleindexing\n",
    "str[2::2]"
   ]
  },
  {
   "cell_type": "markdown",
   "id": "a02ccb50",
   "metadata": {},
   "source": [
    "#### Python string Functions"
   ]
  },
  {
   "cell_type": "code",
   "execution_count": 6,
   "id": "32264585",
   "metadata": {},
   "outputs": [
    {
     "data": {
      "text/plain": [
       "36"
      ]
     },
     "execution_count": 6,
     "metadata": {},
     "output_type": "execute_result"
    }
   ],
   "source": [
    "#### len: it is used to find the length of the given string.\n",
    "len(str)"
   ]
  },
  {
   "cell_type": "code",
   "execution_count": 7,
   "id": "14122aab",
   "metadata": {},
   "outputs": [
    {
     "data": {
      "text/plain": [
       "'This Is Manikanta From West Godavari'"
      ]
     },
     "execution_count": 7,
     "metadata": {},
     "output_type": "execute_result"
    }
   ],
   "source": [
    "##### title: return title cased version of a string. Word start with upper case character and all remaing lower case character.\n",
    "str.title()"
   ]
  },
  {
   "cell_type": "code",
   "execution_count": 8,
   "id": "20d4c591",
   "metadata": {},
   "outputs": [
    {
     "data": {
      "text/plain": [
       "'This is manikanta from west godavari'"
      ]
     },
     "execution_count": 8,
     "metadata": {},
     "output_type": "execute_result"
    }
   ],
   "source": [
    "#### capitalize: It convert first word of the charater is upper case and reaming word lower case.\n",
    "str.capitalize()"
   ]
  },
  {
   "cell_type": "code",
   "execution_count": 9,
   "id": "ef57e254",
   "metadata": {},
   "outputs": [
    {
     "data": {
      "text/plain": [
       "'this is manikanta from west godavari'"
      ]
     },
     "execution_count": 9,
     "metadata": {},
     "output_type": "execute_result"
    }
   ],
   "source": [
    "#### lower: It conver the enter string into lower case.\n",
    "str.lower()"
   ]
  },
  {
   "cell_type": "code",
   "execution_count": 10,
   "id": "97318836",
   "metadata": {},
   "outputs": [
    {
     "data": {
      "text/plain": [
       "'THIS IS MANIKANTA FROM WEST GODAVARI'"
      ]
     },
     "execution_count": 10,
     "metadata": {},
     "output_type": "execute_result"
    }
   ],
   "source": [
    "#### upper: it conver the enter string into uper case.\n",
    "str.upper()"
   ]
  },
  {
   "cell_type": "code",
   "execution_count": 11,
   "id": "f444220f",
   "metadata": {},
   "outputs": [
    {
     "data": {
      "text/plain": [
       "False"
      ]
     },
     "execution_count": 11,
     "metadata": {},
     "output_type": "execute_result"
    }
   ],
   "source": [
    "#### islower: It check the given string is lower or not\n",
    "str.islower()"
   ]
  },
  {
   "cell_type": "code",
   "execution_count": 12,
   "id": "32c138f6",
   "metadata": {},
   "outputs": [
    {
     "data": {
      "text/plain": [
       "False"
      ]
     },
     "execution_count": 12,
     "metadata": {},
     "output_type": "execute_result"
    }
   ],
   "source": [
    "#### isupper: It checking the given string is upper case or not\n",
    "str.isupper()"
   ]
  },
  {
   "cell_type": "code",
   "execution_count": 13,
   "id": "3714e764",
   "metadata": {},
   "outputs": [
    {
     "data": {
      "text/plain": [
       "['This', 'is', 'manikanta', 'from', 'west', 'godavari']"
      ]
     },
     "execution_count": 13,
     "metadata": {},
     "output_type": "execute_result"
    }
   ],
   "source": [
    "#### Split: it will split the given word based on the delimeter.(Delimeter is the comma, space, character which is used in the split() to split in the given string)\n",
    "str.split()"
   ]
  },
  {
   "cell_type": "code",
   "execution_count": 15,
   "id": "744f12f6",
   "metadata": {},
   "outputs": [
    {
     "data": {
      "text/plain": [
       "'hI THIS iS MANI'"
      ]
     },
     "execution_count": 15,
     "metadata": {},
     "output_type": "execute_result"
    }
   ],
   "source": [
    "#### Swapecase: it is used to swap the case thatmeans upper to lower in the word. upper to lower.\n",
    "st=\"Hi this Is mani\"\n",
    "st.swapcase()"
   ]
  },
  {
   "cell_type": "code",
   "execution_count": 16,
   "id": "50813ec3",
   "metadata": {},
   "outputs": [
    {
     "data": {
      "text/plain": [
       "0"
      ]
     },
     "execution_count": 16,
     "metadata": {},
     "output_type": "execute_result"
    }
   ],
   "source": [
    "#### Count: It is used to count the number of occurances of the specific character.\n",
    "st.count('p')"
   ]
  },
  {
   "cell_type": "code",
   "execution_count": 19,
   "id": "b633f5b2",
   "metadata": {},
   "outputs": [
    {
     "data": {
      "text/plain": [
       "3"
      ]
     },
     "execution_count": 19,
     "metadata": {},
     "output_type": "execute_result"
    }
   ],
   "source": [
    "st.count('i')"
   ]
  },
  {
   "cell_type": "code",
   "execution_count": 20,
   "id": "274bc769",
   "metadata": {},
   "outputs": [
    {
     "data": {
      "text/plain": [
       "'Manikanta satish'"
      ]
     },
     "execution_count": 20,
     "metadata": {},
     "output_type": "execute_result"
    }
   ],
   "source": [
    "#### Replace: it is used to replace string from one to another.\n",
    "stg=\"Manikanta manikumar\"\n",
    "stg.replace('manikumar','satish')"
   ]
  },
  {
   "cell_type": "code",
   "execution_count": 23,
   "id": "fdac96d5",
   "metadata": {},
   "outputs": [
    {
     "data": {
      "text/plain": [
       "'Harikrishna manikumar'"
      ]
     },
     "execution_count": 23,
     "metadata": {},
     "output_type": "execute_result"
    }
   ],
   "source": [
    "stg.replace('Manikanta','Harikrishna')"
   ]
  },
  {
   "cell_type": "code",
   "execution_count": 24,
   "id": "f262e3f5",
   "metadata": {},
   "outputs": [
    {
     "data": {
      "text/plain": [
       "['a', 'a', 'a', 'i', 'k', 'm', 'n', 'n', 't']"
      ]
     },
     "execution_count": 24,
     "metadata": {},
     "output_type": "execute_result"
    }
   ],
   "source": [
    "### Display the given string asc order\n",
    "s='manikanta'\n",
    "sorted(s)"
   ]
  },
  {
   "cell_type": "code",
   "execution_count": 25,
   "id": "f5f9aa6e",
   "metadata": {},
   "outputs": [
    {
     "data": {
      "text/plain": [
       "'a a a i k m n n t'"
      ]
     },
     "execution_count": 25,
     "metadata": {},
     "output_type": "execute_result"
    }
   ],
   "source": [
    "' '.join(sorted(s))"
   ]
  },
  {
   "cell_type": "code",
   "execution_count": 26,
   "id": "76bab767",
   "metadata": {},
   "outputs": [
    {
     "data": {
      "text/plain": [
       "'a,a,a,i,k,m,n,n,t'"
      ]
     },
     "execution_count": 26,
     "metadata": {},
     "output_type": "execute_result"
    }
   ],
   "source": [
    "','.join(sorted(s))"
   ]
  },
  {
   "cell_type": "code",
   "execution_count": 27,
   "id": "2f4bdb8c",
   "metadata": {},
   "outputs": [
    {
     "data": {
      "text/plain": [
       "'a t n a k i n a m'"
      ]
     },
     "execution_count": 27,
     "metadata": {},
     "output_type": "execute_result"
    }
   ],
   "source": [
    "## Revers of the string\n",
    "' '.join(reversed(s))"
   ]
  },
  {
   "cell_type": "code",
   "execution_count": 28,
   "id": "1963112c",
   "metadata": {},
   "outputs": [],
   "source": [
    "### del: to delete the particular given string.\n",
    "del s"
   ]
  },
  {
   "cell_type": "code",
   "execution_count": 30,
   "id": "775817a9",
   "metadata": {},
   "outputs": [
    {
     "ename": "NameError",
     "evalue": "name 's' is not defined",
     "output_type": "error",
     "traceback": [
      "\u001b[1;31m---------------------------------------------------------------------------\u001b[0m",
      "\u001b[1;31mNameError\u001b[0m                                 Traceback (most recent call last)",
      "\u001b[1;32m<ipython-input-30-0ff1b7208845>\u001b[0m in \u001b[0;36m<module>\u001b[1;34m\u001b[0m\n\u001b[1;32m----> 1\u001b[1;33m \u001b[0mprint\u001b[0m\u001b[1;33m(\u001b[0m\u001b[0ms\u001b[0m\u001b[1;33m)\u001b[0m\u001b[1;33m\u001b[0m\u001b[1;33m\u001b[0m\u001b[0m\n\u001b[0m",
      "\u001b[1;31mNameError\u001b[0m: name 's' is not defined"
     ]
    }
   ],
   "source": [
    "print(s)"
   ]
  },
  {
   "cell_type": "markdown",
   "id": "7106eb89",
   "metadata": {},
   "source": [
    "#### 2. List:A list can be defined as a collection of values or items of different types. The items in the list are separated with the comma (,) and enclosed with the square brackets [].Python lists are mutable type its mean we can modify its element after it created"
   ]
  },
  {
   "cell_type": "code",
   "execution_count": 31,
   "id": "859bd8dd",
   "metadata": {},
   "outputs": [
    {
     "name": "stdout",
     "output_type": "stream",
     "text": [
      "1\n",
      "2\n",
      "3\n",
      "4\n",
      "[1, 2, 3, 4, 5, 6]\n",
      "[1, 2, 3, 4, 5, 6, 7]\n",
      "[3, 4, 5]\n",
      "[2, 4, 6]\n"
     ]
    }
   ],
   "source": [
    "list = [1,2,3,4,5,6,7]  \n",
    "print(list[0])  \n",
    "print(list[1])  \n",
    "print(list[2])  \n",
    "print(list[3])  \n",
    "# Slicing the elements  \n",
    "print(list[0:6])  \n",
    "# By default the index value is 0 so its starts from the 0th element and go for index -1.  \n",
    "print(list[:])  \n",
    "print(list[2:5])  \n",
    "print(list[1:6:2])  "
   ]
  },
  {
   "cell_type": "code",
   "execution_count": 32,
   "id": "524b61e0",
   "metadata": {},
   "outputs": [
    {
     "name": "stdout",
     "output_type": "stream",
     "text": [
      "5\n",
      "[3, 4, 5]\n",
      "[1, 2, 3, 4]\n",
      "[3, 4]\n"
     ]
    }
   ],
   "source": [
    "list = [1,2,3,4,5]  \n",
    "print(list[-1])  \n",
    "print(list[-3:])  \n",
    "print(list[:-1])  \n",
    "print(list[-3:-1])  "
   ]
  },
  {
   "cell_type": "markdown",
   "id": "393fb012",
   "metadata": {},
   "source": [
    "#### Updating List values\n",
    "Lists are the most versatile data structures in Python since they are mutable, and their values can be updated by using the slice and assignment operator.\n",
    "\n",
    "Python also provides append() and insert() methods, which can be used to add values to the list.\n",
    "\n",
    "Consider the following example to update the values inside the list."
   ]
  },
  {
   "cell_type": "code",
   "execution_count": 33,
   "id": "9ad4ff1c",
   "metadata": {},
   "outputs": [
    {
     "name": "stdout",
     "output_type": "stream",
     "text": [
      "[1, 2, 3, 4, 5, 6]\n",
      "[1, 2, 10, 4, 5, 6]\n",
      "[1, 89, 78, 4, 5, 6]\n",
      "[1, 89, 78, 4, 5, 25]\n"
     ]
    }
   ],
   "source": [
    "list = [1, 2, 3, 4, 5, 6]     \n",
    "print(list)     \n",
    "# It will assign value to the value to the second index   \n",
    "list[2] = 10   \n",
    "print(list)    \n",
    "# Adding multiple-element   \n",
    "list[1:3] = [89, 78]     \n",
    "print(list)   \n",
    "# It will add value at the end of the list  \n",
    "list[-1] = 25  \n",
    "print(list)  "
   ]
  },
  {
   "cell_type": "markdown",
   "id": "2b7bbcde",
   "metadata": {},
   "source": [
    "#### List Methods: \n",
    "* Append\n",
    "* extend\n",
    "* remove\n",
    "* insert\n",
    "* count \n",
    "* index."
   ]
  },
  {
   "cell_type": "code",
   "execution_count": 46,
   "id": "a5aa13a7",
   "metadata": {},
   "outputs": [
    {
     "name": "stdout",
     "output_type": "stream",
     "text": [
      "[1, 2.2, 'mani', True]\n"
     ]
    }
   ],
   "source": [
    "### Appand: The element add the last of the list in element.\n",
    "li=[1,2.2,'mani',True]\n",
    "print(li)"
   ]
  },
  {
   "cell_type": "code",
   "execution_count": 47,
   "id": "2ce15550",
   "metadata": {},
   "outputs": [],
   "source": [
    "li.append('satish')"
   ]
  },
  {
   "cell_type": "code",
   "execution_count": 48,
   "id": "5b5728ba",
   "metadata": {},
   "outputs": [
    {
     "name": "stdout",
     "output_type": "stream",
     "text": [
      "[1, 2.2, 'mani', True, 'satish']\n"
     ]
    }
   ],
   "source": [
    "print(li)"
   ]
  },
  {
   "cell_type": "code",
   "execution_count": 49,
   "id": "08aba274",
   "metadata": {},
   "outputs": [
    {
     "name": "stdout",
     "output_type": "stream",
     "text": [
      "<class 'list'>\n"
     ]
    }
   ],
   "source": [
    "print(type(li))"
   ]
  },
  {
   "cell_type": "code",
   "execution_count": 50,
   "id": "6d5d035e",
   "metadata": {},
   "outputs": [
    {
     "name": "stdout",
     "output_type": "stream",
     "text": [
      "[1, 2.2, 'mani', True, 'satish', 1, 2, 3, 4, 'Mani']\n"
     ]
    }
   ],
   "source": [
    "### Extended also add the elements in the last of the list\n",
    "li.extend([1,2,3,4,'Mani'])\n",
    "print(li)"
   ]
  },
  {
   "cell_type": "code",
   "execution_count": 51,
   "id": "d9a3da7f",
   "metadata": {},
   "outputs": [
    {
     "data": {
      "text/plain": [
       "[1, 2.2, 'mani', True, 'satish', 1, 2, 3, 4, 'Mani']"
      ]
     },
     "execution_count": 51,
     "metadata": {},
     "output_type": "execute_result"
    }
   ],
   "source": [
    "li"
   ]
  },
  {
   "cell_type": "code",
   "execution_count": 55,
   "id": "94239f68",
   "metadata": {},
   "outputs": [
    {
     "name": "stdout",
     "output_type": "stream",
     "text": [
      "[1, 2.2, 'mani', False, 'False', True, 'satish', 1, 2, 3, 4, 'Mani']\n"
     ]
    }
   ],
   "source": [
    "#### Insert: in replace the values in to the particluar location\n",
    "li.insert(3,False)\n",
    "print(li)"
   ]
  },
  {
   "cell_type": "code",
   "execution_count": 58,
   "id": "1c619244",
   "metadata": {},
   "outputs": [
    {
     "data": {
      "text/plain": [
       "3"
      ]
     },
     "execution_count": 58,
     "metadata": {},
     "output_type": "execute_result"
    }
   ],
   "source": [
    "###3 Count: find the elemet in the list how many time it is there in that list\n",
    "li.count(1)"
   ]
  },
  {
   "cell_type": "code",
   "execution_count": 60,
   "id": "419d4b79",
   "metadata": {},
   "outputs": [
    {
     "name": "stdout",
     "output_type": "stream",
     "text": [
      "12\n"
     ]
    }
   ],
   "source": [
    "### Length of the list\n",
    "print(len(li))"
   ]
  },
  {
   "cell_type": "code",
   "execution_count": 61,
   "id": "a3b891bc",
   "metadata": {},
   "outputs": [
    {
     "name": "stdout",
     "output_type": "stream",
     "text": [
      "[1, 2.2, False, 'False', True, 'satish', 1, 2, 3, 4, 'Mani']\n"
     ]
    }
   ],
   "source": [
    "### pop is the delete the index of the element\n",
    "li.pop(2)\n",
    "print(li)"
   ]
  },
  {
   "cell_type": "code",
   "execution_count": null,
   "id": "37f76cea",
   "metadata": {},
   "outputs": [],
   "source": []
  },
  {
   "cell_type": "code",
   "execution_count": null,
   "id": "d28c9e48",
   "metadata": {},
   "outputs": [],
   "source": []
  },
  {
   "cell_type": "code",
   "execution_count": null,
   "id": "79086167",
   "metadata": {},
   "outputs": [],
   "source": []
  },
  {
   "cell_type": "code",
   "execution_count": null,
   "id": "5ce3fec6",
   "metadata": {},
   "outputs": [],
   "source": []
  },
  {
   "cell_type": "markdown",
   "id": "26536321",
   "metadata": {},
   "source": [
    "#### 3.Python Tuple is used to store the sequence of immutable Python objects. The tuple is similar to lists since the value of the items stored in the list can be changed, whereas the tuple is immutable, and the value of the items stored in the tuple cannot be changed."
   ]
  },
  {
   "cell_type": "code",
   "execution_count": 34,
   "id": "e4c9dbfe",
   "metadata": {},
   "outputs": [
    {
     "name": "stdout",
     "output_type": "stream",
     "text": [
      "<class 'tuple'>\n",
      "<class 'tuple'>\n",
      "<class 'tuple'>\n"
     ]
    }
   ],
   "source": [
    "T1 = (101, \"Peter\", 22)    \n",
    "T2 = (\"Apple\", \"Banana\", \"Orange\")     \n",
    "T3 = 10,20,30,40,50  \n",
    "  \n",
    "print(type(T1))  \n",
    "print(type(T2))  \n",
    "print(type(T3))  "
   ]
  },
  {
   "cell_type": "code",
   "execution_count": 35,
   "id": "3d97e1e3",
   "metadata": {},
   "outputs": [
    {
     "name": "stdout",
     "output_type": "stream",
     "text": [
      "1\n",
      "2\n",
      "3\n"
     ]
    }
   ],
   "source": [
    "tup = (1,2,3,4,5,6,7)  \n",
    "print(tup[0])  \n",
    "print(tup[1])  \n",
    "print(tup[2])  \n"
   ]
  },
  {
   "cell_type": "code",
   "execution_count": 36,
   "id": "32fe1612",
   "metadata": {},
   "outputs": [
    {
     "ename": "IndexError",
     "evalue": "tuple index out of range",
     "output_type": "error",
     "traceback": [
      "\u001b[1;31m---------------------------------------------------------------------------\u001b[0m",
      "\u001b[1;31mIndexError\u001b[0m                                Traceback (most recent call last)",
      "\u001b[1;32m<ipython-input-36-c3acf0d7be86>\u001b[0m in \u001b[0;36m<module>\u001b[1;34m\u001b[0m\n\u001b[0;32m      1\u001b[0m \u001b[1;31m# It will give the IndexError\u001b[0m\u001b[1;33m\u001b[0m\u001b[1;33m\u001b[0m\u001b[1;33m\u001b[0m\u001b[0m\n\u001b[1;32m----> 2\u001b[1;33m \u001b[0mprint\u001b[0m\u001b[1;33m(\u001b[0m\u001b[0mtup\u001b[0m\u001b[1;33m[\u001b[0m\u001b[1;36m8\u001b[0m\u001b[1;33m]\u001b[0m\u001b[1;33m)\u001b[0m\u001b[1;33m\u001b[0m\u001b[1;33m\u001b[0m\u001b[0m\n\u001b[0m",
      "\u001b[1;31mIndexError\u001b[0m: tuple index out of range"
     ]
    }
   ],
   "source": [
    "# It will give the IndexError  \n",
    "print(tup[8])  "
   ]
  },
  {
   "cell_type": "code",
   "execution_count": 37,
   "id": "a719bf5a",
   "metadata": {},
   "outputs": [
    {
     "name": "stdout",
     "output_type": "stream",
     "text": [
      "(2, 3, 4, 5, 6, 7)\n",
      "(1, 2, 3, 4)\n",
      "(2, 3, 4, 5)\n",
      "(1, 3, 5)\n"
     ]
    }
   ],
   "source": [
    "tuple = (1,2,3,4,5,6,7)  \n",
    "#element 1 to end  \n",
    "print(tuple[1:])  \n",
    "#element 0 to 3 element   \n",
    "print(tuple[:4])  \n",
    "#element 1 to 4 element  \n",
    "print(tuple[1:5])   \n",
    "# element 0 to 6 and take step of 2  \n",
    "print(tuple[0:6:2])  "
   ]
  },
  {
   "cell_type": "code",
   "execution_count": 38,
   "id": "e7d93e06",
   "metadata": {},
   "outputs": [
    {
     "name": "stdout",
     "output_type": "stream",
     "text": [
      "5\n",
      "2\n",
      "(3, 4)\n",
      "(1, 2, 3, 4)\n",
      "(4, 5)\n"
     ]
    }
   ],
   "source": [
    "tuple1 = (1, 2, 3, 4, 5)    \n",
    "print(tuple1[-1])    \n",
    "print(tuple1[-4])    \n",
    "print(tuple1[-3:-1])  \n",
    "print(tuple1[:-1])  \n",
    "print(tuple1[-2:])  "
   ]
  },
  {
   "cell_type": "markdown",
   "id": "fd02d5cf",
   "metadata": {},
   "source": [
    "#### Deleting Tuple\n",
    "Unlike lists, the tuple items cannot be deleted by using the del keyword as tuples are immutable. To delete an entire tuple, we can use the del keyword with the tuple name."
   ]
  },
  {
   "cell_type": "code",
   "execution_count": 39,
   "id": "45cf0794",
   "metadata": {},
   "outputs": [
    {
     "name": "stdout",
     "output_type": "stream",
     "text": [
      "(1, 2, 3, 4, 5, 6)\n"
     ]
    },
    {
     "ename": "TypeError",
     "evalue": "'tuple' object doesn't support item deletion",
     "output_type": "error",
     "traceback": [
      "\u001b[1;31m---------------------------------------------------------------------------\u001b[0m",
      "\u001b[1;31mTypeError\u001b[0m                                 Traceback (most recent call last)",
      "\u001b[1;32m<ipython-input-39-f286eb3639ca>\u001b[0m in \u001b[0;36m<module>\u001b[1;34m\u001b[0m\n\u001b[0;32m      1\u001b[0m \u001b[0mtuple1\u001b[0m \u001b[1;33m=\u001b[0m \u001b[1;33m(\u001b[0m\u001b[1;36m1\u001b[0m\u001b[1;33m,\u001b[0m \u001b[1;36m2\u001b[0m\u001b[1;33m,\u001b[0m \u001b[1;36m3\u001b[0m\u001b[1;33m,\u001b[0m \u001b[1;36m4\u001b[0m\u001b[1;33m,\u001b[0m \u001b[1;36m5\u001b[0m\u001b[1;33m,\u001b[0m \u001b[1;36m6\u001b[0m\u001b[1;33m)\u001b[0m\u001b[1;33m\u001b[0m\u001b[1;33m\u001b[0m\u001b[0m\n\u001b[0;32m      2\u001b[0m \u001b[0mprint\u001b[0m\u001b[1;33m(\u001b[0m\u001b[0mtuple1\u001b[0m\u001b[1;33m)\u001b[0m\u001b[1;33m\u001b[0m\u001b[1;33m\u001b[0m\u001b[0m\n\u001b[1;32m----> 3\u001b[1;33m \u001b[1;32mdel\u001b[0m \u001b[0mtuple1\u001b[0m\u001b[1;33m[\u001b[0m\u001b[1;36m0\u001b[0m\u001b[1;33m]\u001b[0m\u001b[1;33m\u001b[0m\u001b[1;33m\u001b[0m\u001b[0m\n\u001b[0m\u001b[0;32m      4\u001b[0m \u001b[0mprint\u001b[0m\u001b[1;33m(\u001b[0m\u001b[0mtuple1\u001b[0m\u001b[1;33m)\u001b[0m\u001b[1;33m\u001b[0m\u001b[1;33m\u001b[0m\u001b[0m\n\u001b[0;32m      5\u001b[0m \u001b[1;32mdel\u001b[0m \u001b[0mtuple1\u001b[0m\u001b[1;33m\u001b[0m\u001b[1;33m\u001b[0m\u001b[0m\n",
      "\u001b[1;31mTypeError\u001b[0m: 'tuple' object doesn't support item deletion"
     ]
    }
   ],
   "source": [
    "tuple1 = (1, 2, 3, 4, 5, 6)    \n",
    "print(tuple1)    \n",
    "del tuple1[0]    \n",
    "print(tuple1)    \n",
    "del tuple1    \n",
    "print(tuple1)   "
   ]
  },
  {
   "cell_type": "markdown",
   "id": "1d1b23e1",
   "metadata": {},
   "source": [
    "#### Tuple operation:\n",
    "* Membership\n",
    "* Repetation\n",
    "* Iteration\n",
    "* Concatination"
   ]
  },
  {
   "cell_type": "code",
   "execution_count": 3,
   "id": "16792050",
   "metadata": {},
   "outputs": [
    {
     "name": "stdout",
     "output_type": "stream",
     "text": [
      "()\n"
     ]
    }
   ],
   "source": [
    "ma=()\n",
    "print(ma)"
   ]
  },
  {
   "cell_type": "code",
   "execution_count": 4,
   "id": "0b7bea5e",
   "metadata": {},
   "outputs": [
    {
     "name": "stdout",
     "output_type": "stream",
     "text": [
      "<class 'tuple'>\n"
     ]
    }
   ],
   "source": [
    "print(type(ma))"
   ]
  },
  {
   "cell_type": "code",
   "execution_count": 5,
   "id": "7494fdba",
   "metadata": {},
   "outputs": [
    {
     "name": "stdout",
     "output_type": "stream",
     "text": [
      "1\n"
     ]
    }
   ],
   "source": [
    "m=(1,1.1,'qualitythought')\n",
    "print(m[0])"
   ]
  },
  {
   "cell_type": "code",
   "execution_count": 6,
   "id": "0e9d06ac",
   "metadata": {},
   "outputs": [
    {
     "name": "stdout",
     "output_type": "stream",
     "text": [
      "(1, 1.1, 'qualitythought', 1, 1.1, 'qualitythought')\n"
     ]
    }
   ],
   "source": [
    "#### Repetations : the tuple will multiple elements in the same \n",
    "print(m*2)\n"
   ]
  },
  {
   "cell_type": "code",
   "execution_count": 8,
   "id": "f93f0242",
   "metadata": {},
   "outputs": [
    {
     "name": "stdout",
     "output_type": "stream",
     "text": [
      "(1, 1.1, 'qualitythought', 1, 2, 3, 4)\n"
     ]
    }
   ],
   "source": [
    "#### Concatination : adding the elements in the tuple  \n",
    "a=(1,2,3,4)\n",
    "print(m+a)"
   ]
  },
  {
   "cell_type": "code",
   "execution_count": 9,
   "id": "ab48d2b3",
   "metadata": {},
   "outputs": [
    {
     "name": "stdout",
     "output_type": "stream",
     "text": [
      "True\n"
     ]
    }
   ],
   "source": [
    "#### Membership: It is asking the element in the tuple or not\n",
    "print(2 in a)"
   ]
  },
  {
   "cell_type": "code",
   "execution_count": 12,
   "id": "1c105f26",
   "metadata": {},
   "outputs": [
    {
     "name": "stdout",
     "output_type": "stream",
     "text": [
      "1\n",
      "2\n",
      "3\n",
      "4\n"
     ]
    }
   ],
   "source": [
    "##### Iteration: looping of the element to display\n",
    "for i in a:\n",
    "    print(i)"
   ]
  },
  {
   "cell_type": "markdown",
   "id": "7940cea0",
   "metadata": {},
   "source": [
    "##### Tuple functions:\n",
    "* min\n",
    "* max\n",
    "* sum\n",
    "* sorted"
   ]
  },
  {
   "cell_type": "code",
   "execution_count": 13,
   "id": "a00ac2e2",
   "metadata": {},
   "outputs": [
    {
     "name": "stdout",
     "output_type": "stream",
     "text": [
      "(1, 2, 6, 35, 67, 4, 5, 77, 24)\n"
     ]
    }
   ],
   "source": [
    "kir=(1,2,6,35,67,4,5,77,24)\n",
    "print(kir)"
   ]
  },
  {
   "cell_type": "code",
   "execution_count": 14,
   "id": "df3a1ba4",
   "metadata": {},
   "outputs": [
    {
     "name": "stdout",
     "output_type": "stream",
     "text": [
      "<class 'tuple'>\n"
     ]
    }
   ],
   "source": [
    "#### It display the data type of the variable\n",
    "print(type(kir))"
   ]
  },
  {
   "cell_type": "code",
   "execution_count": 17,
   "id": "052f0588",
   "metadata": {},
   "outputs": [
    {
     "name": "stdout",
     "output_type": "stream",
     "text": [
      "1\n"
     ]
    }
   ],
   "source": [
    "#### it display the varible to which element is min in the tuple \n",
    "print(min(kir))"
   ]
  },
  {
   "cell_type": "code",
   "execution_count": 18,
   "id": "76a8bfad",
   "metadata": {},
   "outputs": [
    {
     "name": "stdout",
     "output_type": "stream",
     "text": [
      "77\n"
     ]
    }
   ],
   "source": [
    "##### #### it display the varible to which element is max in the tuple \n",
    "print(max(kir))"
   ]
  },
  {
   "cell_type": "code",
   "execution_count": 19,
   "id": "1f9a1bba",
   "metadata": {},
   "outputs": [
    {
     "name": "stdout",
     "output_type": "stream",
     "text": [
      "221\n"
     ]
    }
   ],
   "source": [
    "### sum mena the all the elements will add and display the value\n",
    "print(sum(kir))"
   ]
  },
  {
   "cell_type": "code",
   "execution_count": 20,
   "id": "ce3eaf69",
   "metadata": {},
   "outputs": [
    {
     "name": "stdout",
     "output_type": "stream",
     "text": [
      "[1, 2, 4, 5, 6, 24, 35, 67, 77]\n"
     ]
    }
   ],
   "source": [
    "### sorted means they will put in order way in the elements\n",
    "print(sorted(kir))"
   ]
  },
  {
   "cell_type": "code",
   "execution_count": null,
   "id": "46283fb4",
   "metadata": {},
   "outputs": [],
   "source": []
  },
  {
   "cell_type": "markdown",
   "id": "4a9ff89c",
   "metadata": {},
   "source": [
    "#### 4.Sets are used to store multiple items in a single variable.\n",
    "\n",
    "Set is one of 4 built-in data types in Python used to store collections of data, the other 3 are List, Tuple, and Dictionary, all with different qualities and usage.\n",
    "\n",
    "A set is a collection which is unordered, unchangeable*, and unindexed.\n",
    "\n",
    "**Unordered**\n",
    "Unordered means that the items in a set do not have a defined order.\n",
    "\n",
    "Set items can appear in a different order every time you use them, and cannot be referred to by index or key.\n",
    "\n",
    "**Unchangeable**\n",
    "Set items are unchangeable, meaning that we cannot change the items after the set has been created.\n",
    "\n",
    "**Duplicates** Not Allowed\n",
    "Sets cannot have two items with the same value."
   ]
  },
  {
   "cell_type": "code",
   "execution_count": 1,
   "id": "ebe29cad",
   "metadata": {},
   "outputs": [
    {
     "name": "stdout",
     "output_type": "stream",
     "text": [
      "{'banana', 'cherry', 'apple'}\n"
     ]
    }
   ],
   "source": [
    "thisset = {\"apple\", \"banana\", \"cherry\", \"apple\"}\n",
    "\n",
    "print(thisset)"
   ]
  },
  {
   "cell_type": "code",
   "execution_count": 3,
   "id": "d88e544d",
   "metadata": {},
   "outputs": [
    {
     "name": "stdout",
     "output_type": "stream",
     "text": [
      "<class 'set'>\n"
     ]
    }
   ],
   "source": [
    "print(type(thisset))"
   ]
  },
  {
   "cell_type": "markdown",
   "id": "13a6452d",
   "metadata": {},
   "source": [
    "#### Set Methods\n",
    "* add()\n",
    "* clear()\n",
    "* copy()\n",
    "* difference()\n",
    "* remove()\n",
    "* intersetion()\n",
    "* disjoint()\n",
    "* union()\n",
    "* issubset()\n",
    "* update()\n",
    "* pop()\n",
    "* discard()"
   ]
  },
  {
   "cell_type": "code",
   "execution_count": 6,
   "id": "b902fd23",
   "metadata": {},
   "outputs": [
    {
     "name": "stdout",
     "output_type": "stream",
     "text": [
      "{1, 2, 3.4, 4, 'mani'}\n"
     ]
    }
   ],
   "source": [
    "### add(): Adds an element to the set\n",
    "s={1,2,3.4,'mani'}\n",
    "s.add(4)\n",
    "print(s)"
   ]
  },
  {
   "cell_type": "code",
   "execution_count": 9,
   "id": "ddb7a57f",
   "metadata": {},
   "outputs": [
    {
     "name": "stdout",
     "output_type": "stream",
     "text": [
      "{1, 2, 3, 'manikanta', 'vasu'}\n"
     ]
    }
   ],
   "source": [
    "s={1,2,3,'manikanta'}\n",
    "s.add('vasu')\n",
    "print(s)"
   ]
  },
  {
   "cell_type": "code",
   "execution_count": 10,
   "id": "09942a27",
   "metadata": {},
   "outputs": [
    {
     "name": "stdout",
     "output_type": "stream",
     "text": [
      "{1, 2, 3, 4, 'sweety', 'apple', 'mango'}\n"
     ]
    }
   ],
   "source": [
    "### Update(): Update the set with the union of this set and others\n",
    "x = {\"apple\", \"mango\", \"sweety\"}\n",
    "y = {\"apple\",1,2,3,4}\n",
    "\n",
    "x.update(y) \n",
    "\n",
    "print(x)"
   ]
  },
  {
   "cell_type": "code",
   "execution_count": 11,
   "id": "b52cda75",
   "metadata": {},
   "outputs": [
    {
     "name": "stdout",
     "output_type": "stream",
     "text": [
      "{1, 2, 'cherry', 3, 4, 'apple'}\n"
     ]
    }
   ],
   "source": [
    "#### Remove():Removes the specified element\n",
    "k = {\"apple\", \"banana\", \"cherry\",1,2,3,4}\n",
    "\n",
    "k.remove(\"banana\") \n",
    "\n",
    "print(k)"
   ]
  },
  {
   "cell_type": "code",
   "execution_count": 12,
   "id": "663a7236",
   "metadata": {},
   "outputs": [
    {
     "name": "stdout",
     "output_type": "stream",
     "text": [
      "{1, 2, 'cherry', 3, 4, 'banana', 'apple'}\n"
     ]
    }
   ],
   "source": [
    "#### copy():Returns a copy of the set\n",
    "k = {\"apple\", \"banana\", \"cherry\",1,2,3,4}\n",
    "x=k.copy()\n",
    "print(x)"
   ]
  },
  {
   "cell_type": "code",
   "execution_count": 14,
   "id": "e75a0980",
   "metadata": {},
   "outputs": [
    {
     "name": "stdout",
     "output_type": "stream",
     "text": [
      "set()\n"
     ]
    }
   ],
   "source": [
    "#### clear():Removes all the elements from the set\n",
    "x={1,2,3,4,5,6,'manikanta',2.3}\n",
    "x.clear()\n",
    "print(x)"
   ]
  },
  {
   "cell_type": "code",
   "execution_count": 17,
   "id": "e7b65aa4",
   "metadata": {},
   "outputs": [
    {
     "name": "stdout",
     "output_type": "stream",
     "text": [
      "{2, 3, 4, 5, 6, 2.3, 'manikanta'}\n"
     ]
    }
   ],
   "source": [
    "#### discard():Remove the specified item\n",
    "x={1,2,3,4,5,6,'manikanta',2.3}\n",
    "x.discard(1)\n",
    "print(x)"
   ]
  },
  {
   "cell_type": "code",
   "execution_count": 18,
   "id": "c41ed2e5",
   "metadata": {},
   "outputs": [
    {
     "name": "stdout",
     "output_type": "stream",
     "text": [
      "{1, 2, 3, 4, 5, 6, 2.3}\n"
     ]
    }
   ],
   "source": [
    "x={1,2,3,4,5,6,'manikanta',2.3}\n",
    "x.discard(\"manikanta\")\n",
    "print(x)"
   ]
  },
  {
   "cell_type": "code",
   "execution_count": 19,
   "id": "81e0cac3",
   "metadata": {},
   "outputs": [
    {
     "name": "stdout",
     "output_type": "stream",
     "text": [
      "{2, 3, 4, 5, 6, 2.3, 'manikanta'}\n"
     ]
    }
   ],
   "source": [
    "### pop(): method removes a random item from the set.\n",
    "x={1,2,3,4,5,6,'manikanta',2.3}\n",
    "x.pop()\n",
    "print(x)"
   ]
  },
  {
   "cell_type": "code",
   "execution_count": 20,
   "id": "d9a545e8",
   "metadata": {},
   "outputs": [
    {
     "name": "stdout",
     "output_type": "stream",
     "text": [
      "{3, 4, 5, 6, 'manikanta'}\n"
     ]
    }
   ],
   "source": [
    "x={3,4,5,6,'manikanta',2.3}\n",
    "x.pop()\n",
    "print(x)"
   ]
  },
  {
   "cell_type": "code",
   "execution_count": 21,
   "id": "c8330845",
   "metadata": {},
   "outputs": [
    {
     "name": "stdout",
     "output_type": "stream",
     "text": [
      "{'banana', 'google', 'cherry', 'apple', 'microsoft'}\n"
     ]
    }
   ],
   "source": [
    "#### Union:Return a set containing the union of sets\n",
    "x = {\"apple\", \"banana\", \"cherry\"}\n",
    "y = {\"google\", \"microsoft\", \"apple\"}\n",
    "\n",
    "z = x.union(y) \n",
    "\n",
    "print(z)"
   ]
  },
  {
   "cell_type": "code",
   "execution_count": 22,
   "id": "50bec662",
   "metadata": {},
   "outputs": [
    {
     "name": "stdout",
     "output_type": "stream",
     "text": [
      "{'b', 'e', 'f', 'c', 'a', 'd'}\n"
     ]
    }
   ],
   "source": [
    "x = {\"a\", \"b\", \"c\"}\n",
    "y = {\"f\", \"d\", \"a\"}\n",
    "z = {\"c\", \"d\", \"e\"}\n",
    "\n",
    "result = x.union(y, z)\n",
    "\n",
    "print(result)"
   ]
  },
  {
   "cell_type": "code",
   "execution_count": 23,
   "id": "8b0c82ad",
   "metadata": {},
   "outputs": [
    {
     "name": "stdout",
     "output_type": "stream",
     "text": [
      "{'apple'}\n"
     ]
    }
   ],
   "source": [
    "#### intersection():Returns a set, that is the intersection of two other sets\n",
    "\n",
    "x = {\"apple\", \"banana\", \"cherry\"}\n",
    "y = {\"google\", \"microsoft\", \"apple\"}\n",
    "\n",
    "z = x.intersection(y) \n",
    "\n",
    "print(z)\n"
   ]
  },
  {
   "cell_type": "code",
   "execution_count": 24,
   "id": "9a5b70ef",
   "metadata": {},
   "outputs": [
    {
     "name": "stdout",
     "output_type": "stream",
     "text": [
      "{'c'}\n"
     ]
    }
   ],
   "source": [
    "x = {\"a\", \"b\", \"c\"}\n",
    "y = {\"c\", \"d\", \"e\"}\n",
    "z = {\"f\", \"g\", \"c\"}\n",
    "\n",
    "result = x.intersection(y, z)\n",
    "\n",
    "print(result)"
   ]
  },
  {
   "cell_type": "code",
   "execution_count": 25,
   "id": "491c64b6",
   "metadata": {},
   "outputs": [
    {
     "name": "stdout",
     "output_type": "stream",
     "text": [
      "{'banana', 'cherry'}\n"
     ]
    }
   ],
   "source": [
    "### difference():Returns a set containing the difference between two or more sets.\n",
    "x = {\"apple\", \"banana\", \"cherry\"}\n",
    "y = {\"google\", \"microsoft\", \"apple\"}\n",
    "\n",
    "z = x.difference(y) \n",
    "\n",
    "print(z)"
   ]
  },
  {
   "cell_type": "code",
   "execution_count": 26,
   "id": "8cc8783e",
   "metadata": {},
   "outputs": [
    {
     "name": "stdout",
     "output_type": "stream",
     "text": [
      "{'google', 'microsoft'}\n"
     ]
    }
   ],
   "source": [
    "x = {\"apple\", \"banana\", \"cherry\"}\n",
    "y = {\"google\", \"microsoft\", \"apple\"}\n",
    "\n",
    "z = y.difference(x) \n",
    "\n",
    "print(z)"
   ]
  },
  {
   "cell_type": "code",
   "execution_count": 27,
   "id": "03ae1f69",
   "metadata": {},
   "outputs": [
    {
     "name": "stdout",
     "output_type": "stream",
     "text": [
      "{'b'}\n"
     ]
    }
   ],
   "source": [
    "x = {\"a\", \"b\", \"c\"}\n",
    "y = {\"f\", \"d\", \"a\"}\n",
    "z = {\"c\", \"d\", \"e\"}\n",
    "\n",
    "result = x.difference(y, z)\n",
    "\n",
    "print(result)"
   ]
  },
  {
   "cell_type": "code",
   "execution_count": 28,
   "id": "9f0d3634",
   "metadata": {},
   "outputs": [
    {
     "name": "stdout",
     "output_type": "stream",
     "text": [
      "True\n"
     ]
    }
   ],
   "source": [
    "### issubset(): Returns whether another set contains this set or not\n",
    "x = {\"a\", \"b\", \"c\"}\n",
    "y = {\"f\", \"e\", \"d\", \"c\", \"b\", \"a\"}\n",
    "\n",
    "z = x.issubset(y) \n",
    "\n",
    "print(z)"
   ]
  },
  {
   "cell_type": "code",
   "execution_count": 31,
   "id": "46c00525",
   "metadata": {},
   "outputs": [
    {
     "name": "stdout",
     "output_type": "stream",
     "text": [
      "False\n"
     ]
    }
   ],
   "source": [
    "x = {\"a\", \"b\", \"c\"}\n",
    "y = {\"f\", \"e\", \"d\"}\n",
    "\n",
    "z = x.issubset(y) \n",
    "\n",
    "print(z)"
   ]
  },
  {
   "cell_type": "code",
   "execution_count": 29,
   "id": "89b22c0a",
   "metadata": {},
   "outputs": [
    {
     "name": "stdout",
     "output_type": "stream",
     "text": [
      "True\n"
     ]
    }
   ],
   "source": [
    "#### isdisjoint():Returns whether two sets have a intersection or not\n",
    "x = {\"apple\", \"banana\", \"cherry\"}\n",
    "y = {\"google\", \"microsoft\", \"facebook\"}\n",
    "\n",
    "z = x.isdisjoint(y) \n",
    "\n",
    "print(z)"
   ]
  },
  {
   "cell_type": "code",
   "execution_count": 30,
   "id": "849afff0",
   "metadata": {},
   "outputs": [
    {
     "name": "stdout",
     "output_type": "stream",
     "text": [
      "False\n"
     ]
    }
   ],
   "source": [
    "x = {\"apple\", \"banana\", \"cherry\"}\n",
    "y = {\"google\", \"apple\", \"facebook\"}\n",
    "\n",
    "z = x.isdisjoint(y) \n",
    "\n",
    "print(z)"
   ]
  },
  {
   "cell_type": "markdown",
   "id": "5250bcda",
   "metadata": {},
   "source": [
    "### Dictionary:\n",
    "Dictionaries are used to store data values in key:value pairs.\n",
    "A dictionary is a collection which is ordered*, changeable and does not allow duplicates.\n",
    "Dictionaries are written with curly brackets, and have keys and values:\n",
    "\n",
    "**Changeable**\n",
    "Dictionaries are changeable, meaning that we can change, add or remove items after the dictionary has been created.\n",
    "\n",
    "**Duplicates Not Allowed**\n",
    "Dictionaries cannot have two items with the same key:\n",
    "\n",
    "**Ordered**\n",
    "When we say that dictionaries are ordered, it means that the items have a defined order, and that order will not change."
   ]
  },
  {
   "cell_type": "code",
   "execution_count": 33,
   "id": "942f8386",
   "metadata": {},
   "outputs": [
    {
     "name": "stdout",
     "output_type": "stream",
     "text": [
      "{'k': 'manikanta', 'B': 'Jagan', 'year': 1964, 'K': 25.25}\n",
      "<class 'dict'>\n"
     ]
    }
   ],
   "source": [
    "a = {\n",
    "  \"k\": \"manikanta\",\n",
    "  \"B\": \"Jagan\",\n",
    "  \"year\": 1964,\n",
    "    \"K\":25.25\n",
    "}\n",
    "print(a)\n",
    "print(type(a))"
   ]
  },
  {
   "cell_type": "markdown",
   "id": "621cb1ac",
   "metadata": {},
   "source": [
    "#### Dictionary Methods:\n",
    "* clear()\n",
    "* copy()\n",
    "* fromkeys()\n",
    "* get()\n",
    "* items()\n",
    "* keys()\n",
    "* pop()\n",
    "* popitem()\n",
    "* setdefault()\n",
    "* update()\n",
    "* values()"
   ]
  },
  {
   "cell_type": "code",
   "execution_count": 35,
   "id": "0effa175",
   "metadata": {},
   "outputs": [
    {
     "name": "stdout",
     "output_type": "stream",
     "text": [
      "{}\n"
     ]
    }
   ],
   "source": [
    "#### clear(): Removes all the elements from the dictionary\n",
    "car ={\n",
    "  \"brand\": \"Ford\",\n",
    "  \"model\": \"Mustang\",\n",
    "  \"year\": 1964\n",
    "}\n",
    "\n",
    "car.clear()\n",
    "\n",
    "print(car)"
   ]
  },
  {
   "cell_type": "code",
   "execution_count": 37,
   "id": "4b0a2ca3",
   "metadata": {},
   "outputs": [
    {
     "name": "stdout",
     "output_type": "stream",
     "text": [
      "{'k': 'maniknata', 'year': 1994, 'phone': 9849851886, 'Address': 'Katakoteswaram'}\n"
     ]
    }
   ],
   "source": [
    "#### copy()\tReturns a copy of the dictionary\n",
    "k={\"k\":\"maniknata\",\n",
    "  \"year\":1994,\n",
    "  \"phone\":9849851886,\n",
    "  \"Address\":\"Katakoteswaram\"}\n",
    "x=k.copy()\n",
    "print(x)"
   ]
  },
  {
   "cell_type": "code",
   "execution_count": 38,
   "id": "0d72fdf5",
   "metadata": {},
   "outputs": [
    {
     "name": "stdout",
     "output_type": "stream",
     "text": [
      "{'key1': 0, 'key2': 0, 'key3': 0}\n"
     ]
    }
   ],
   "source": [
    "#### fromkeys():Returns a dictionary with the specified keys and value\n",
    "x = ('key1', 'key2', 'key3')\n",
    "y = 0\n",
    "\n",
    "thisdict = dict.fromkeys(x, y)\n",
    "\n",
    "\n",
    "print(thisdict)"
   ]
  },
  {
   "cell_type": "code",
   "execution_count": 39,
   "id": "cec428d7",
   "metadata": {},
   "outputs": [
    {
     "name": "stdout",
     "output_type": "stream",
     "text": [
      "{'mani': 984, 'kanta': 984, 'srinu': 984, 'pandu': 984}\n"
     ]
    }
   ],
   "source": [
    "x=('mani','kanta','srinu','pandu')\n",
    "y=984\n",
    "z=dict.fromkeys(x,y)\n",
    "print(z)\n",
    "\n"
   ]
  },
  {
   "cell_type": "code",
   "execution_count": 40,
   "id": "35b76db5",
   "metadata": {},
   "outputs": [
    {
     "name": "stdout",
     "output_type": "stream",
     "text": [
      "9849851886\n"
     ]
    }
   ],
   "source": [
    "#### get():Returns the value of the specified key\n",
    "k={\"k\":\"maniknata\",\n",
    "  \"year\":1994,\n",
    "  \"phone\":9849851886,\n",
    "  \"Address\":\"Katakoteswaram\"}\n",
    "x=k.get(\"phone\")\n",
    "print(x)"
   ]
  },
  {
   "cell_type": "code",
   "execution_count": 41,
   "id": "accc50f5",
   "metadata": {},
   "outputs": [
    {
     "data": {
      "text/plain": [
       "'maniknata'"
      ]
     },
     "execution_count": 41,
     "metadata": {},
     "output_type": "execute_result"
    }
   ],
   "source": [
    "k.get(\"k\")"
   ]
  },
  {
   "cell_type": "code",
   "execution_count": 43,
   "id": "d315822d",
   "metadata": {},
   "outputs": [
    {
     "name": "stdout",
     "output_type": "stream",
     "text": [
      "dict_items([('k', 'maniknata'), ('year', 1994), ('phone', 9849851886), ('Address', 'Katakoteswaram')])\n"
     ]
    }
   ],
   "source": [
    "#### items():Returns a list containing a tuple for each key value pair\n",
    "k={\"k\":\"maniknata\",\n",
    "  \"year\":1994,\n",
    "  \"phone\":9849851886,\n",
    "  \"Address\":\"Katakoteswaram\"}\n",
    "x=k.items()\n",
    "print(x)"
   ]
  },
  {
   "cell_type": "code",
   "execution_count": 44,
   "id": "eb56f9ba",
   "metadata": {},
   "outputs": [
    {
     "name": "stdout",
     "output_type": "stream",
     "text": [
      "dict_keys(['k', 'year', 'phone', 'Address'])\n"
     ]
    }
   ],
   "source": [
    "#### keys():Returns a list containing the dictionary's keys\n",
    "k={\"k\":\"maniknata\",\n",
    "  \"year\":1994,\n",
    "  \"phone\":9849851886,\n",
    "  \"Address\":\"Katakoteswaram\"}\n",
    "x=k.keys()\n",
    "print(x)"
   ]
  },
  {
   "cell_type": "code",
   "execution_count": 46,
   "id": "645b6489",
   "metadata": {},
   "outputs": [
    {
     "name": "stdout",
     "output_type": "stream",
     "text": [
      "{'k': 'maniknata', 'phone': 9849851886, 'Address': 'Katakoteswaram'}\n"
     ]
    }
   ],
   "source": [
    "#### pop():Removes the element with the specified key\n",
    "k={\"k\":\"maniknata\",\n",
    "  \"year\":1994,\n",
    "  \"phone\":9849851886,\n",
    "  \"Address\":\"Katakoteswaram\"}\n",
    "k.pop('year')\n",
    "print(k)"
   ]
  },
  {
   "cell_type": "code",
   "execution_count": 47,
   "id": "e0340b3b",
   "metadata": {},
   "outputs": [
    {
     "name": "stdout",
     "output_type": "stream",
     "text": [
      "{'k': 'maniknata', 'year': 1994, 'phone': 9849851886}\n"
     ]
    }
   ],
   "source": [
    "#### popitem():Removes the last inserted key-value pair\n",
    "k={\"k\":\"maniknata\",\n",
    "  \"year\":1994,\n",
    "  \"phone\":9849851886,\n",
    "  \"Address\":\"Katakoteswaram\"}\n",
    "k.popitem()\n",
    "print(k)"
   ]
  },
  {
   "cell_type": "code",
   "execution_count": 48,
   "id": "3aa3e526",
   "metadata": {},
   "outputs": [
    {
     "name": "stdout",
     "output_type": "stream",
     "text": [
      "{'k': 'maniknata', 'year': 1994, 'phone': 9849851886}\n"
     ]
    }
   ],
   "source": [
    "k={\"k\":\"maniknata\",\n",
    "  \"year\":1994,\n",
    "  \"phone\":9849851886,\n",
    "  \"Address\":\"Katakoteswaram\"}\n",
    "k.popitem()\n",
    "print(k)"
   ]
  },
  {
   "cell_type": "code",
   "execution_count": 54,
   "id": "98bb3dfd",
   "metadata": {},
   "outputs": [
    {
     "name": "stdout",
     "output_type": "stream",
     "text": [
      "{'k': 'maniknata', 'year': 1994, 'phone': 9849851886, 'Address': 'Katakoteswaram', 'qualification': 'M.Tech'}\n"
     ]
    }
   ],
   "source": [
    "### update():Updates the dictionary with the specified key-value pairs\n",
    "k={\"k\":\"maniknata\",\n",
    "  \"year\":1994,\n",
    "  \"phone\":9849851886,\n",
    "  \"Address\":\"Katakoteswaram\"}\n",
    "k.update({\"qualification\":\"M.Tech\"})\n",
    "print(k)"
   ]
  },
  {
   "cell_type": "code",
   "execution_count": 55,
   "id": "823b1030",
   "metadata": {},
   "outputs": [
    {
     "name": "stdout",
     "output_type": "stream",
     "text": [
      "{'k': 'maniknata', 'year': 1994, 'phone': 9849851886, 'Address': 'Katakoteswaram', 'job': 'cloud data engineer'}\n"
     ]
    }
   ],
   "source": [
    "k={\"k\":\"maniknata\",\n",
    "  \"year\":1994,\n",
    "  \"phone\":9849851886,\n",
    "  \"Address\":\"Katakoteswaram\"}\n",
    "k.update({\"job\":\"cloud data engineer\"})\n",
    "print(k)"
   ]
  },
  {
   "cell_type": "code",
   "execution_count": 57,
   "id": "a583d0a3",
   "metadata": {},
   "outputs": [
    {
     "name": "stdout",
     "output_type": "stream",
     "text": [
      "dict_values(['maniknata', 1994, 9849851886, 'Katakoteswaram'])\n"
     ]
    }
   ],
   "source": [
    "#### values():Returns a list of all the values in the dictionary\n",
    "k={\"k\":\"maniknata\",\n",
    "  \"year\":1994,\n",
    "  \"phone\":9849851886,\n",
    "  \"Address\":\"Katakoteswaram\"}\n",
    "x=k.values()\n",
    "print(x)"
   ]
  },
  {
   "cell_type": "code",
   "execution_count": null,
   "id": "560e2ba4",
   "metadata": {},
   "outputs": [],
   "source": []
  },
  {
   "cell_type": "code",
   "execution_count": null,
   "id": "4b5f3d28",
   "metadata": {},
   "outputs": [],
   "source": []
  },
  {
   "cell_type": "code",
   "execution_count": null,
   "id": "1753546b",
   "metadata": {},
   "outputs": [],
   "source": []
  },
  {
   "cell_type": "code",
   "execution_count": null,
   "id": "542ed8db",
   "metadata": {},
   "outputs": [],
   "source": []
  }
 ],
 "metadata": {
  "kernelspec": {
   "display_name": "Python 3",
   "language": "python",
   "name": "python3"
  },
  "language_info": {
   "codemirror_mode": {
    "name": "ipython",
    "version": 3
   },
   "file_extension": ".py",
   "mimetype": "text/x-python",
   "name": "python",
   "nbconvert_exporter": "python",
   "pygments_lexer": "ipython3",
   "version": "3.8.8"
  }
 },
 "nbformat": 4,
 "nbformat_minor": 5
}
