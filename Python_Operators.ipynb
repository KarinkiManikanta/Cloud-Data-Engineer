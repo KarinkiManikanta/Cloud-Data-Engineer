{
 "cells": [
  {
   "cell_type": "markdown",
   "id": "d89c13e6",
   "metadata": {},
   "source": [
    "#### Python Operators:"
   ]
  },
  {
   "cell_type": "markdown",
   "id": "6a1d8aa4",
   "metadata": {},
   "source": [
    "Python divides the operators in the following groups:\n",
    "\n",
    "* Arithmetic operators\n",
    "* Assignment operators\n",
    "* Comparison operators\n",
    "* Logical operators\n",
    "* Identity operators\n",
    "* Membership operators\n",
    "* Bitwise operators"
   ]
  },
  {
   "cell_type": "code",
   "execution_count": null,
   "id": "135d3fad",
   "metadata": {},
   "outputs": [],
   "source": [
    "### Arithmetic operators:\n",
    "'''\n",
    "Operator         Name\n",
    "  +            Addition\n",
    "  -            Subtraction\n",
    "  *            Multiplication\n",
    "  /            Division\n",
    "  %            Modulus Division\n",
    "  **           Exponentiation\n",
    "  //           Floor Division\n",
    " '''"
   ]
  },
  {
   "cell_type": "code",
   "execution_count": 1,
   "id": "4a36815a",
   "metadata": {},
   "outputs": [
    {
     "name": "stdout",
     "output_type": "stream",
     "text": [
      "15\n",
      "5\n",
      "50\n",
      "2.0\n",
      "0\n",
      "100000\n",
      "2\n"
     ]
    }
   ],
   "source": [
    "a=10\n",
    "b=5\n",
    "print(a+b)\n",
    "print(a-b)\n",
    "print(a*b)\n",
    "print(a/b)\n",
    "print(a%b)\n",
    "print(a**b)\n",
    "print(a//b)"
   ]
  },
  {
   "cell_type": "code",
   "execution_count": null,
   "id": "ff3ce409",
   "metadata": {},
   "outputs": [],
   "source": [
    "###  Assignment operators\n",
    "'''\n",
    "operator  example  same as\n",
    "  =        x=5       x=5\n",
    " +=        x+=3      x=x+3\n",
    " -=        x-=3      x=x-3\n",
    " *=        x*=3      x=x*3\n",
    " /=        x/=3      x=x/3\n",
    " %=        x%=3      x=x%3\n",
    "//=       x//=3      x=x//3\n",
    "**=       x**=3      x=x**3\n",
    "'''"
   ]
  },
  {
   "cell_type": "code",
   "execution_count": 5,
   "id": "b2efc7c2",
   "metadata": {},
   "outputs": [
    {
     "name": "stdout",
     "output_type": "stream",
     "text": [
      "5\n"
     ]
    }
   ],
   "source": [
    "x=5\n",
    "print(x)"
   ]
  },
  {
   "cell_type": "code",
   "execution_count": 6,
   "id": "5ddba9f4",
   "metadata": {},
   "outputs": [
    {
     "name": "stdout",
     "output_type": "stream",
     "text": [
      "8\n",
      "5\n",
      "15\n",
      "5.0\n",
      "2.0\n",
      "0.0\n",
      "0.0\n"
     ]
    }
   ],
   "source": [
    "x+=3\n",
    "print(x)\n",
    "x-=3\n",
    "print(x)\n",
    "x*=3\n",
    "print(x)\n",
    "x/=3\n",
    "print(x)\n",
    "x%=3\n",
    "print(x)\n",
    "x//=3\n",
    "print(x)\n",
    "x**=3\n",
    "print(x)\n"
   ]
  },
  {
   "cell_type": "code",
   "execution_count": null,
   "id": "61c80b01",
   "metadata": {},
   "outputs": [],
   "source": [
    "### Comparision Operator/Relational Operator\n",
    "Relational operators are used for comparing the values. It either returns True or False according to the condition.\n",
    "These operators are also known as Comparison Operators.\n",
    "\n",
    "'''\n",
    "Operator                          Description                                                   Example\n",
    "==         If the values of two operands are equal, then the condition becomes true.        (a == b) is not true.\n",
    "!=         If values of two operands are not equal, then condition becomes true.            (a != b) is true.\n",
    "<>         If values of two operands are not equal, then condition becomes true.            (a <> b) is true. This is similar to != operator.\n",
    ">          If the value of left operand is greater than the value of right operand, \n",
    "           then condition becomes true.                                                     (a > b) is not true.\n",
    "<          If the value of left operand is less than the value of right operand, then \n",
    "           condition becomes true.                                                          (a < b) is true.\n",
    ">=         If the value of left operand is greater than or equal to the\n",
    "           value of right operand, then condition becomes true.                             (a >= b) is not true.\n",
    "<=         If the value of left operand is less than or equal to \n",
    "           the value of right operand, then condition becomes true.                         (a <= b) is true.\n",
    "'''    "
   ]
  },
  {
   "cell_type": "code",
   "execution_count": 3,
   "id": "c2b06dbb",
   "metadata": {},
   "outputs": [
    {
     "name": "stdout",
     "output_type": "stream",
     "text": [
      "False\n",
      "True\n",
      "False\n",
      "True\n",
      "False\n",
      "True\n"
     ]
    }
   ],
   "source": [
    "a=10\n",
    "b=20\n",
    "print(a==b)\n",
    "print(a!=b)\n",
    "#print(a<>b)\n",
    "print(a>b)\n",
    "print(a<b)\n",
    "print(a>=b)\n",
    "print(a<=b)\n",
    "\n"
   ]
  },
  {
   "cell_type": "code",
   "execution_count": 4,
   "id": "4db7f1db",
   "metadata": {},
   "outputs": [
    {
     "name": "stdout",
     "output_type": "stream",
     "text": [
      "True\n"
     ]
    }
   ],
   "source": [
    "n=5\n",
    "print(n<10)"
   ]
  },
  {
   "cell_type": "code",
   "execution_count": 9,
   "id": "abfca11f",
   "metadata": {},
   "outputs": [
    {
     "name": "stdout",
     "output_type": "stream",
     "text": [
      "a is not equal to b\n",
      "a is not equal to b\n",
      "a is not less than b\n",
      "a is greater than b\n"
     ]
    }
   ],
   "source": [
    "a = 21\n",
    "b = 10\n",
    "c = 0\n",
    "\n",
    "if ( a == b ):\n",
    "   print(\"a is equal to b\")\n",
    "else:\n",
    "   print(\"a is not equal to b\")\n",
    "\n",
    "if ( a != b ):\n",
    "   print(\"a is not equal to b\")\n",
    "else:\n",
    "   print(\"a is equal to b\")\n",
    "\n",
    "if ( a < b ):\n",
    "   print(\"a is less than b\") \n",
    "else:\n",
    "   print(\"a is not less than b\")\n",
    "\n",
    "if ( a > b ):\n",
    "   print(\"a is greater than b\")\n",
    "else:\n",
    "   print(\"a is not greater than b\")\n"
   ]
  },
  {
   "cell_type": "code",
   "execution_count": 10,
   "id": "91bff1eb",
   "metadata": {},
   "outputs": [
    {
     "name": "stdout",
     "output_type": "stream",
     "text": [
      "a is either less than or equal to  b\n",
      "b is either greater than  or equal to b\n"
     ]
    }
   ],
   "source": [
    "a = 5;\n",
    "b = 20;\n",
    "if ( a <= b ):\n",
    "   print(\"a is either less than or equal to  b\")\n",
    "else:\n",
    "   print(\"a is neither less than nor equal to  b\")\n",
    "\n",
    "if ( b >= a ):\n",
    "   print (\"b is either greater than  or equal to b\")\n",
    "else:\n",
    "   print (\"b is neither greater than  nor equal to b\")"
   ]
  },
  {
   "cell_type": "code",
   "execution_count": null,
   "id": "78c54e2d",
   "metadata": {},
   "outputs": [],
   "source": [
    "### Python Logical Operators\n",
    "Operators are used to perform operations on values and variables. These are the special symbols that carry out arithmetic and logical computations. The value the operator operates on is known as Operand. \n",
    "\n",
    "'''\n",
    "\n",
    "Operator                           Description                                                     Example\n",
    "and Logical AND             If both the operands are true then condition becomes true.    (a and b) is true.\n",
    "or Logical OR               If any of the two operands are non-zero then condition \n",
    "                            becomes true.                                                 (a or b) is true.\n",
    "not Logical NOT            Used to reverse the logical state of its operand.              Not(a and b) is false.\n",
    "\n",
    "'''"
   ]
  },
  {
   "cell_type": "code",
   "execution_count": 11,
   "id": "15d8023d",
   "metadata": {},
   "outputs": [
    {
     "name": "stdout",
     "output_type": "stream",
     "text": [
      "True\n"
     ]
    }
   ],
   "source": [
    "x = 5\n",
    "\n",
    "print(x > 3 and x < 10)\n",
    "\n",
    "# returns True because 5 is greater than 3 AND 5 is less than 10"
   ]
  },
  {
   "cell_type": "code",
   "execution_count": 12,
   "id": "4d1e3443",
   "metadata": {},
   "outputs": [
    {
     "name": "stdout",
     "output_type": "stream",
     "text": [
      "True\n"
     ]
    }
   ],
   "source": [
    "x = 5\n",
    "\n",
    "print(x > 3 or x < 4)\n",
    "\n",
    "# returns True because one of the conditions are true (5 is greater than 3, but 5 is not less than 4)"
   ]
  },
  {
   "cell_type": "code",
   "execution_count": 13,
   "id": "f321a73e",
   "metadata": {},
   "outputs": [
    {
     "name": "stdout",
     "output_type": "stream",
     "text": [
      "False\n"
     ]
    }
   ],
   "source": [
    "x = 5\n",
    "\n",
    "print(not(x > 3 and x < 10))\n",
    "\n",
    "# returns False because not is used to reverse the result"
   ]
  },
  {
   "cell_type": "code",
   "execution_count": 14,
   "id": "8d3ea4a1",
   "metadata": {},
   "outputs": [
    {
     "name": "stdout",
     "output_type": "stream",
     "text": [
      "The numbers are greater than 0\n",
      "Atleast one number is not greater than 0\n"
     ]
    }
   ],
   "source": [
    "# logical and operator\n",
    "  \n",
    "a = 10\n",
    "b = 10\n",
    "c = -10\n",
    "  \n",
    "if a > 0 and b > 0:\n",
    "    print(\"The numbers are greater than 0\")\n",
    "  \n",
    "\n",
    "if a > 0 and b > 0 and c > 0:\n",
    "    print(\"The numbers are greater than 0\")\n",
    "else:\n",
    "    print(\"Atleast one number is not greater than 0\")"
   ]
  },
  {
   "cell_type": "code",
   "execution_count": 15,
   "id": "5bc599d7",
   "metadata": {},
   "outputs": [
    {
     "name": "stdout",
     "output_type": "stream",
     "text": [
      "Their product will be negative\n"
     ]
    }
   ],
   "source": [
    "a = 10\n",
    "b = -5\n",
    "  \n",
    "if a < 0 or b < 0:\n",
    "  print(\"Their product will be negative\")\n",
    "else:\n",
    "  print(\"Their product will be positive\")"
   ]
  },
  {
   "cell_type": "code",
   "execution_count": 17,
   "id": "527fda83",
   "metadata": {},
   "outputs": [
    {
     "name": "stdout",
     "output_type": "stream",
     "text": [
      "a not equals 10\n"
     ]
    }
   ],
   "source": [
    "\n",
    "a = 15\n",
    "  \n",
    "if not a == 10:\n",
    "  print (\"a not equals 10\")\n",
    "else:\n",
    "  print(\"a equals 10\")"
   ]
  },
  {
   "cell_type": "code",
   "execution_count": null,
   "id": "ec122bd3",
   "metadata": {},
   "outputs": [],
   "source": [
    "### Identity operators\n",
    "The identity operators in Python are used to determine whether a value is of a certain class or type. \n",
    "They are usually used to determine the type of data a certain variable contains. For example, you can combine the identity operators with the \n",
    "built-in type() function to ensure that you are working with the specific variable type\n",
    "'''\n",
    "Operator                 Description                                              Example\n",
    "is       Returns true if both variables are the same object                        x is y\n",
    "is not   Returns true if both variables are not the same object                    x is not y\n",
    "'''"
   ]
  },
  {
   "cell_type": "code",
   "execution_count": 18,
   "id": "76a09fa4",
   "metadata": {},
   "outputs": [
    {
     "name": "stdout",
     "output_type": "stream",
     "text": [
      "True\n",
      "False\n",
      "True\n"
     ]
    }
   ],
   "source": [
    "x = [\"apple\", \"banana\"]\n",
    "y = [\"apple\", \"banana\"]\n",
    "z = x\n",
    "\n",
    "print(x is z)\n",
    "\n",
    "# returns True because z is the same object as x\n",
    "\n",
    "print(x is y)\n",
    "\n",
    "# returns False because x is not the same object as y, even if they have the same content\n",
    "\n",
    "print(x == y)\n",
    "\n",
    "# to demonstrate the difference betweeen \"is\" and \"==\": this comparison returns True because x is equal to y"
   ]
  },
  {
   "cell_type": "code",
   "execution_count": 20,
   "id": "549687ff",
   "metadata": {},
   "outputs": [
    {
     "name": "stdout",
     "output_type": "stream",
     "text": [
      "a and b have same identity\n",
      "a and b have same identity\n",
      "a and b do not have same identity\n",
      "a and b do not have same identity\n"
     ]
    }
   ],
   "source": [
    "a = 20\n",
    "b = 20\n",
    "\n",
    "if ( a is b ):\n",
    "   print(\"a and b have same identity\")\n",
    "else:\n",
    "   print(\"a and b do not have same identity\")\n",
    "\n",
    "if ( id(a) == id(b) ):\n",
    "   print(\"a and b have same identity\")\n",
    "else:\n",
    "   print(\"a and b do not have same identity\")\n",
    "\n",
    "b = 30\n",
    "if ( a is b ):\n",
    "   print(\"a and b have same identity\")\n",
    "else:\n",
    "   print(\"a and b do not have same identity\")\n",
    "\n",
    "if ( a is not b ):\n",
    "   print(\"a and b do not have same identity\")\n",
    "else:\n",
    "   print(\"a and b have same identity\")"
   ]
  },
  {
   "cell_type": "code",
   "execution_count": null,
   "id": "668d5e64",
   "metadata": {},
   "outputs": [],
   "source": [
    "### membership operator\n",
    "Membership operators are operators used to validate the membership of a value. It tests for membership in a sequence, \n",
    "such as strings, lists, or tuples.\n",
    "'''\n",
    "Operator                             Description                                                          Example \n",
    "in                     Returns True if a sequence with the specified value \n",
    "                       is present in the object                                                           x in y\n",
    "not in                 Returns True if a sequence with the specified value\n",
    "                       is not present in the object                                                     x not in y\n",
    "'''"
   ]
  },
  {
   "cell_type": "code",
   "execution_count": 21,
   "id": "f4659b03",
   "metadata": {},
   "outputs": [
    {
     "name": "stdout",
     "output_type": "stream",
     "text": [
      "not overlapping\n"
     ]
    }
   ],
   "source": [
    "# using 'in' operator\n",
    "list1=[1,2,3,4,5]\n",
    "list2=[6,7,8,9]\n",
    "for item in list1:\n",
    "    if item in list2:\n",
    "        print(\"overlapping\")     \n",
    "else:\n",
    "    print(\"not overlapping\")"
   ]
  },
  {
   "cell_type": "code",
   "execution_count": 22,
   "id": "9225eba4",
   "metadata": {},
   "outputs": [
    {
     "name": "stdout",
     "output_type": "stream",
     "text": [
      "x is NOT present in given list\n",
      "y is present in given list\n"
     ]
    }
   ],
   "source": [
    "# not 'in' operator\n",
    "x = 24\n",
    "y = 20\n",
    "list = [10, 20, 30, 40, 50 ];\n",
    " \n",
    "if ( x not in list ):\n",
    "   print(\"x is NOT present in given list\")\n",
    "else:\n",
    "   print(\"x is  present in given list\")\n",
    " \n",
    "if ( y in list ):\n",
    "   print(\"y is present in given list\")\n",
    "else:\n",
    "   print(\"y is NOT present in given list\")"
   ]
  },
  {
   "cell_type": "code",
   "execution_count": null,
   "id": "ec5bad58",
   "metadata": {},
   "outputs": [],
   "source": [
    "### Bitwise operators\n",
    "In Python, bitwise operators are used to performing bitwise calculations on integers. The integers are first converted into binary and then operations are performed on bit by bit, hence the name bitwise operators. \n",
    "Then the result is returned in decimal format.\n",
    "'''\n",
    "OPERATOR   DESCRIPTION      SYNTAX\n",
    "&          Bitwise AND       x & y\n",
    "|          Bitwise OR        x | y\n",
    "~          Bitwise NOT        ~x\n",
    "^          Bitwise XOR       x ^ y\n",
    ">>         Bitwise right \n",
    "           shift              x>>\n",
    "<<         Bitwise left \n",
    "           shift              x<<\n",
    "'''"
   ]
  },
  {
   "cell_type": "code",
   "execution_count": 23,
   "id": "b3296fcd",
   "metadata": {},
   "outputs": [
    {
     "name": "stdout",
     "output_type": "stream",
     "text": [
      "a & b = 0\n",
      "a | b = 14\n",
      "~a = -11\n",
      "a ^ b = 14\n"
     ]
    }
   ],
   "source": [
    "# bitwise operators\n",
    " \n",
    "a = 10\n",
    "b = 4\n",
    " \n",
    "# Print bitwise AND operation\n",
    "print(\"a & b =\", a & b)\n",
    " \n",
    "# Print bitwise OR operation\n",
    "print(\"a | b =\", a | b)\n",
    " \n",
    "# Print bitwise NOT operation\n",
    "print(\"~a =\", ~a)\n",
    " \n",
    "# print bitwise XOR operation\n",
    "print(\"a ^ b =\", a ^ b)"
   ]
  },
  {
   "cell_type": "code",
   "execution_count": 24,
   "id": "e826fd4a",
   "metadata": {},
   "outputs": [
    {
     "name": "stdout",
     "output_type": "stream",
     "text": [
      "a >> 1 = 5\n",
      "b >> 1 = -5\n",
      "a << 1 = 10\n",
      "b << 1 = -20\n"
     ]
    }
   ],
   "source": [
    "# shift operators\n",
    " \n",
    "a = 10\n",
    "b = -10\n",
    " \n",
    "# print bitwise right shift operator\n",
    "print(\"a >> 1 =\", a >> 1)\n",
    "print(\"b >> 1 =\", b >> 1)\n",
    " \n",
    "a = 5\n",
    "b = -10\n",
    " \n",
    "# print bitwise left shift operator\n",
    "print(\"a << 1 =\", a << 1)\n",
    "print(\"b << 1 =\", b << 1)"
   ]
  },
  {
   "cell_type": "code",
   "execution_count": null,
   "id": "3f774f14",
   "metadata": {},
   "outputs": [],
   "source": []
  },
  {
   "cell_type": "code",
   "execution_count": null,
   "id": "ca81f97b",
   "metadata": {},
   "outputs": [],
   "source": []
  },
  {
   "cell_type": "code",
   "execution_count": null,
   "id": "cabfa0b5",
   "metadata": {},
   "outputs": [],
   "source": []
  },
  {
   "cell_type": "code",
   "execution_count": null,
   "id": "ddd174c3",
   "metadata": {},
   "outputs": [],
   "source": []
  },
  {
   "cell_type": "code",
   "execution_count": null,
   "id": "06e271c0",
   "metadata": {},
   "outputs": [],
   "source": []
  }
 ],
 "metadata": {
  "kernelspec": {
   "display_name": "Python 3",
   "language": "python",
   "name": "python3"
  },
  "language_info": {
   "codemirror_mode": {
    "name": "ipython",
    "version": 3
   },
   "file_extension": ".py",
   "mimetype": "text/x-python",
   "name": "python",
   "nbconvert_exporter": "python",
   "pygments_lexer": "ipython3",
   "version": "3.8.8"
  }
 },
 "nbformat": 4,
 "nbformat_minor": 5
}
